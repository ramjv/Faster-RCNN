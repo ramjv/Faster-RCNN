{
  "nbformat": 4,
  "nbformat_minor": 0,
  "metadata": {
    "colab": {
      "name": "DataPreprocessing.ipynb",
      "provenance": [],
      "collapsed_sections": [],
      "mount_file_id": "1ZJjYKG5SowXrxmbK7v4eMUPhkgyRekNK",
      "authorship_tag": "ABX9TyMeKNybZpXEqPNfAlSNpbpf",
      "include_colab_link": true
    },
    "kernelspec": {
      "name": "python3",
      "display_name": "Python 3"
    }
  },
  "cells": [
    {
      "cell_type": "markdown",
      "metadata": {
        "id": "view-in-github",
        "colab_type": "text"
      },
      "source": [
        "<a href=\"https://colab.research.google.com/github/ramjv/Faster-RCNN/blob/master/DataPreprocessing.ipynb\" target=\"_parent\"><img src=\"https://colab.research.google.com/assets/colab-badge.svg\" alt=\"Open In Colab\"/></a>"
      ]
    },
    {
      "cell_type": "code",
      "metadata": {
        "id": "XL_p311_2j8U",
        "colab_type": "code",
        "colab": {}
      },
      "source": [
        "import numpy as np\n",
        "import matplotlib.pyplot as plt\n",
        "import pandas as pd\n",
        "from skimage import io"
      ],
      "execution_count": 0,
      "outputs": []
    },
    {
      "cell_type": "code",
      "metadata": {
        "id": "ra-CmLGw8qdf",
        "colab_type": "code",
        "colab": {}
      },
      "source": [
        "df = pd.read_csv(\"/content/bccd.csv\")\n",
        "\n",
        "#print(df['image_names'].unique())\n",
        "\n",
        "train, validate, test = np.split(df, [int(.8 * len(df)), int(.9 * len(df))])\n"
      ],
      "execution_count": 0,
      "outputs": []
    },
    {
      "cell_type": "code",
      "metadata": {
        "id": "lLDzC-ccED0U",
        "colab_type": "code",
        "colab": {
          "base_uri": "https://localhost:8080/",
          "height": 118
        },
        "outputId": "b555bbf5-3302-4dd9-b458-e74e2f2d7cfd"
      },
      "source": [
        "print(df.head(5))"
      ],
      "execution_count": 41,
      "outputs": [
        {
          "output_type": "stream",
          "text": [
            "            image_names cell_type  xmin  ymin  xmax  ymax\n",
            "0  BloodImage_00000.jpg       WBC   260   177   491   376\n",
            "1  BloodImage_00000.jpg       RBC    78   336   184   435\n",
            "2  BloodImage_00000.jpg       RBC    63   237   169   336\n",
            "3  BloodImage_00000.jpg       RBC   214   362   320   461\n",
            "4  BloodImage_00000.jpg       RBC   414   352   506   445\n"
          ],
          "name": "stdout"
        }
      ]
    },
    {
      "cell_type": "code",
      "metadata": {
        "id": "O9i5bYdwGLOE",
        "colab_type": "code",
        "colab": {}
      },
      "source": [
        "with open('/content/train_ann.txt','w+') as f:\n",
        "  for i , row in train.iterrows():\n",
        "    f.write(row.image_names + ',' + str(row.xmin) + ',' + str(row.ymin) + ',' + str(row.xmax) + ',' + str(row.ymax) + ',' + row.cell_type + '\\n')"
      ],
      "execution_count": 0,
      "outputs": []
    },
    {
      "cell_type": "code",
      "metadata": {
        "id": "Y2wC_ZYIHmAA",
        "colab_type": "code",
        "colab": {}
      },
      "source": [
        "with open('/content/validate_ann.txt','w+') as f:\n",
        "  for i , row in validate.iterrows():\n",
        "    f.write(row.image_names + ',' + str(row.xmin) + ',' + str(row.ymin) + ',' + str(row.xmax) + ',' + str(row.ymax) + ',' + row.cell_type + '\\n')"
      ],
      "execution_count": 0,
      "outputs": []
    },
    {
      "cell_type": "code",
      "metadata": {
        "id": "IfDwoN2_IExE",
        "colab_type": "code",
        "colab": {}
      },
      "source": [
        "with open('/content/test_ann.txt','w+') as f:\n",
        "  for i , row in test.iterrows():\n",
        "    f.write(row.image_names + ',' + str(row.xmin) + ',' + str(row.ymin) + ',' + str(row.xmax) + ',' + str(row.ymax) + ',' + row.cell_type + '\\n')"
      ],
      "execution_count": 0,
      "outputs": []
    }
  ]
}